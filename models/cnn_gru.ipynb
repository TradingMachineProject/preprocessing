{
 "cells": [
  {
   "cell_type": "code",
   "execution_count": 70,
   "metadata": {},
   "outputs": [],
   "source": [
    "import numpy as np\n",
    "import pandas as pd\n",
    "import math\n",
    "import seaborn as sns\n",
    "import datetime as dt\n",
    "from datetime import datetime\n",
    "sns.set_style('whitegrid')\n",
    "from pandas.plotting import autocorrelation_plot\n",
    "import matplotlib.pyplot as plt\n",
    "%matplotlib inline\n",
    "plt.style.use(\"ggplot\")\n",
    "\n",
    "import os"
   ]
  },
  {
   "cell_type": "code",
   "execution_count": 71,
   "metadata": {},
   "outputs": [],
   "source": [
    "os.chdir(\"C:/Users/user/Desktop/trade_machine\")"
   ]
  },
  {
   "cell_type": "code",
   "execution_count": 72,
   "metadata": {},
   "outputs": [],
   "source": [
    "data = pd.read_csv('data/raw_df.csv')"
   ]
  },
  {
   "cell_type": "code",
   "execution_count": 73,
   "metadata": {},
   "outputs": [],
   "source": [
    "data = data[['time_id','realized_volatility', 'num_trades',\n",
    "       'highest_return', 'high_low_gap', 'trade_vol', 'volume_power',\n",
    "       'dv1_realized_volatility', 'realized_volatility_150', 'num_trades_150',\n",
    "       'highest_return_150', 'high_low_gap_150', 'trade_vol_150',\n",
    "       'volume_power_150', 'realized_volatility_300', 'num_trades_300',\n",
    "       'highest_return_300', 'high_low_gap_300', 'trade_vol_300',\n",
    "       'volume_power_300', 'realized_volatility_450', 'num_trades_450',\n",
    "       'highest_return_450', 'high_low_gap_450', 'trade_vol_450',\n",
    "       'volume_power_450', 'liq_last_1', 'liq_last_2', 'liq_last_5',\n",
    "       'liq_last_10', 'liq_last_15', 'bidask_spread_0', 'bidask_spread_1',\n",
    "       'liq_last_1_150', 'liq_last_2_150', 'liq_last_5_150', 'liq_last_10_150',\n",
    "       'liq_last_15_150', 'bidask_spread_0_150', 'bidask_spread_1_150',\n",
    "       'liq_last_1_300', 'liq_last_2_300', 'liq_last_5_300', 'liq_last_10_300',\n",
    "       'liq_last_15_300', 'bidask_spread_0_300', 'bidask_spread_1_300',\n",
    "       'liq_last_1_450', 'liq_last_2_450', 'liq_last_5_450', 'liq_last_10_450',\n",
    "       'liq_last_15_450', 'bidask_spread_0_450', 'bidask_spread_1_450', 'tvpl',\n",
    "       'trade.tau']]"
   ]
  },
  {
   "cell_type": "markdown",
   "metadata": {},
   "source": [
    "# Preprocess"
   ]
  },
  {
   "cell_type": "code",
   "execution_count": 74,
   "metadata": {},
   "outputs": [
    {
     "name": "stdout",
     "output_type": "stream",
     "text": [
      "NaN values in data: 832\n",
      "Inf values in data: 157\n",
      "Inf values in data after replacement: 0\n"
     ]
    },
    {
     "name": "stderr",
     "output_type": "stream",
     "text": [
      "C:\\Users\\user\\AppData\\Local\\Temp\\ipykernel_15492\\2484032867.py:9: FutureWarning: The default value of numeric_only in DataFrame.mean is deprecated. In a future version, it will default to False. In addition, specifying 'numeric_only=None' is deprecated. Select only valid columns or specify the value of numeric_only to silence this warning.\n",
      "  data.fillna(data.mean(), inplace=True)  # Filling NaN with mean values column-wise\n"
     ]
    }
   ],
   "source": [
    "# Assuming 'data' is a pandas DataFrame\n",
    "\n",
    "# Check for NaN and Inf values in the dataset\n",
    "print(\"NaN values in data:\", data.isna().sum().sum())\n",
    "print(\"Inf values in data:\", np.isinf(data.drop(columns=['time_id'])).sum().sum()) \n",
    "\n",
    "# Handle NaN and Inf values by replacing them with mean values of respective columns\n",
    "data.replace([np.inf, -np.inf], np.nan, inplace=True)\n",
    "data.fillna(data.mean(), inplace=True)  # Filling NaN with mean values column-wise\n",
    "\n",
    "print(\"Inf values in data after replacement:\", np.isinf(data.drop(columns=['time_id'])).sum().sum())  # Check again after replacement\n"
   ]
  },
  {
   "cell_type": "code",
   "execution_count": 75,
   "metadata": {},
   "outputs": [
    {
     "name": "stdout",
     "output_type": "stream",
     "text": [
      "<class 'pandas.core.frame.DataFrame'>\n",
      "RangeIndex: 102336 entries, 0 to 102335\n",
      "Data columns (total 56 columns):\n",
      " #   Column                   Non-Null Count   Dtype  \n",
      "---  ------                   --------------   -----  \n",
      " 0   time_id                  102336 non-null  object \n",
      " 1   realized_volatility      102336 non-null  float64\n",
      " 2   num_trades               102336 non-null  int64  \n",
      " 3   highest_return           102336 non-null  float64\n",
      " 4   high_low_gap             102336 non-null  float64\n",
      " 5   trade_vol                102336 non-null  float64\n",
      " 6   volume_power             102336 non-null  float64\n",
      " 7   dv1_realized_volatility  102336 non-null  float64\n",
      " 8   realized_volatility_150  102336 non-null  float64\n",
      " 9   num_trades_150           102336 non-null  int64  \n",
      " 10  highest_return_150       102336 non-null  float64\n",
      " 11  high_low_gap_150         102336 non-null  float64\n",
      " 12  trade_vol_150            102336 non-null  float64\n",
      " 13  volume_power_150         102336 non-null  float64\n",
      " 14  realized_volatility_300  102336 non-null  float64\n",
      " 15  num_trades_300           102336 non-null  int64  \n",
      " 16  highest_return_300       102336 non-null  float64\n",
      " 17  high_low_gap_300         102336 non-null  float64\n",
      " 18  trade_vol_300            102336 non-null  float64\n",
      " 19  volume_power_300         102336 non-null  float64\n",
      " 20  realized_volatility_450  102336 non-null  float64\n",
      " 21  num_trades_450           102336 non-null  int64  \n",
      " 22  highest_return_450       102336 non-null  float64\n",
      " 23  high_low_gap_450         102336 non-null  float64\n",
      " 24  trade_vol_450            102336 non-null  float64\n",
      " 25  volume_power_450         102336 non-null  float64\n",
      " 26  liq_last_1               102336 non-null  float64\n",
      " 27  liq_last_2               102336 non-null  float64\n",
      " 28  liq_last_5               102336 non-null  float64\n",
      " 29  liq_last_10              102336 non-null  float64\n",
      " 30  liq_last_15              102336 non-null  float64\n",
      " 31  bidask_spread_0          102336 non-null  float64\n",
      " 32  bidask_spread_1          102336 non-null  float64\n",
      " 33  liq_last_1_150           102336 non-null  float64\n",
      " 34  liq_last_2_150           102336 non-null  float64\n",
      " 35  liq_last_5_150           102336 non-null  float64\n",
      " 36  liq_last_10_150          102336 non-null  float64\n",
      " 37  liq_last_15_150          102336 non-null  float64\n",
      " 38  bidask_spread_0_150      102336 non-null  float64\n",
      " 39  bidask_spread_1_150      102336 non-null  float64\n",
      " 40  liq_last_1_300           102336 non-null  float64\n",
      " 41  liq_last_2_300           102336 non-null  float64\n",
      " 42  liq_last_5_300           102336 non-null  float64\n",
      " 43  liq_last_10_300          102336 non-null  float64\n",
      " 44  liq_last_15_300          102336 non-null  float64\n",
      " 45  bidask_spread_0_300      102336 non-null  float64\n",
      " 46  bidask_spread_1_300      102336 non-null  float64\n",
      " 47  liq_last_1_450           102336 non-null  float64\n",
      " 48  liq_last_2_450           102336 non-null  float64\n",
      " 49  liq_last_5_450           102336 non-null  float64\n",
      " 50  liq_last_10_450          102336 non-null  float64\n",
      " 51  liq_last_15_450          102336 non-null  float64\n",
      " 52  bidask_spread_0_450      102336 non-null  float64\n",
      " 53  bidask_spread_1_450      102336 non-null  float64\n",
      " 54  tvpl                     102336 non-null  float64\n",
      " 55  trade.tau                102336 non-null  float64\n",
      "dtypes: float64(51), int64(4), object(1)\n",
      "memory usage: 43.7+ MB\n"
     ]
    }
   ],
   "source": [
    "data.info()\n"
   ]
  },
  {
   "cell_type": "code",
   "execution_count": 76,
   "metadata": {},
   "outputs": [],
   "source": [
    "data.drop(columns=['time_id'],inplace=True)"
   ]
  },
  {
   "cell_type": "code",
   "execution_count": 77,
   "metadata": {},
   "outputs": [],
   "source": [
    "df = data.copy()"
   ]
  },
  {
   "cell_type": "code",
   "execution_count": 78,
   "metadata": {},
   "outputs": [],
   "source": [
    "from sklearn.model_selection import train_test_split"
   ]
  },
  {
   "cell_type": "code",
   "execution_count": 79,
   "metadata": {},
   "outputs": [
    {
     "name": "stdout",
     "output_type": "stream",
     "text": [
      "(102330, 6, 54)\n",
      "(102330, 1)\n"
     ]
    }
   ],
   "source": [
    "X = []\n",
    "Y = []\n",
    "\n",
    "window_size = 6\n",
    "forecast_period = 1\n",
    "feature_columns = list(df.columns)\n",
    "feature_columns.remove('dv1_realized_volatility') \n",
    "\n",
    "for i in range(len(df) - window_size - forecast_period + 1):\n",
    "    # For X: Use the features for the window\n",
    "    temp = df.iloc[i:i + window_size][feature_columns].values\n",
    "    X.append(temp)\n",
    "    \n",
    "    # For Y: Use the 'dv1_realized_volatility' for the next 10 minutes\n",
    "    volatilities = df.iloc[i + window_size: i + window_size + forecast_period]['dv1_realized_volatility'].values\n",
    "    Y.append(volatilities)\n",
    "\n",
    "X = np.array(X)\n",
    "Y = np.array(Y)\n",
    "\n",
    "print(X.shape)\n",
    "print(Y.shape)\n"
   ]
  },
  {
   "cell_type": "code",
   "execution_count": 80,
   "metadata": {},
   "outputs": [
    {
     "name": "stdout",
     "output_type": "stream",
     "text": [
      "(92097, 6, 54)\n",
      "(10233, 6, 54)\n"
     ]
    }
   ],
   "source": [
    "split_point = int(0.9 * len(X)) \n",
    "\n",
    "train_X = X[:split_point]\n",
    "test_X = X[split_point:]\n",
    "train_Y = Y[:split_point]\n",
    "test_Y = Y[split_point:]\n",
    "\n",
    "print(train_X.shape)\n",
    "print(test_X.shape)\n"
   ]
  },
  {
   "cell_type": "code",
   "execution_count": 81,
   "metadata": {},
   "outputs": [],
   "source": [
    "train_X = train_X.reshape(train_X.shape[0], -1)\n",
    "test_X = test_X.reshape(test_X.shape[0], -1)\n"
   ]
  },
  {
   "cell_type": "code",
   "execution_count": 82,
   "metadata": {},
   "outputs": [
    {
     "data": {
      "text/plain": [
       "(92097, 324)"
      ]
     },
     "execution_count": 82,
     "metadata": {},
     "output_type": "execute_result"
    }
   ],
   "source": [
    "train_X.shape"
   ]
  },
  {
   "cell_type": "code",
   "execution_count": 83,
   "metadata": {},
   "outputs": [
    {
     "name": "stdout",
     "output_type": "stream",
     "text": [
      "102330\n",
      "102330\n",
      "92097\n",
      "10233\n"
     ]
    }
   ],
   "source": [
    "print(len(X))\n",
    "print(len(Y))\n",
    "print(len(train_X))\n",
    "print(len(test_X))"
   ]
  },
  {
   "cell_type": "markdown",
   "metadata": {},
   "source": [
    "# Modeling"
   ]
  },
  {
   "cell_type": "code",
   "execution_count": 44,
   "metadata": {},
   "outputs": [],
   "source": [
    "import tensorflow as tf\n",
    "from tensorflow.keras.models import Sequential\n",
    "from tensorflow.keras.layers import Dense\n",
    "from tensorflow.keras.optimizers import Adam\n"
   ]
  },
  {
   "cell_type": "markdown",
   "metadata": {},
   "source": [
    "simple nn"
   ]
  },
  {
   "cell_type": "code",
   "execution_count": 46,
   "metadata": {},
   "outputs": [],
   "source": [
    "model = Sequential()\n",
    "model.add(Dense(256, activation='relu', input_shape=(5400,)))\n",
    "model.add(Dense(128, activation='relu'))\n",
    "model.add(Dense(64, activation='relu'))\n",
    "model.add(Dense(10, activation='linear')) # 10 future volatilities\n"
   ]
  },
  {
   "cell_type": "code",
   "execution_count": 47,
   "metadata": {},
   "outputs": [],
   "source": [
    "model.compile(optimizer=Adam(learning_rate=0.001),\n",
    "              loss='mean_squared_error') "
   ]
  },
  {
   "cell_type": "code",
   "execution_count": 48,
   "metadata": {},
   "outputs": [
    {
     "name": "stdout",
     "output_type": "stream",
     "text": [
      "Epoch 1/10\n",
      "2588/2588 [==============================] - 38s 14ms/step - loss: 10602292.0000 - val_loss: 4.2881e-04\n",
      "Epoch 2/10\n",
      "2588/2588 [==============================] - 33s 13ms/step - loss: 24684.7812 - val_loss: 5.6522e-04\n",
      "Epoch 3/10\n",
      "2588/2588 [==============================] - 32s 12ms/step - loss: 9832.4922 - val_loss: 7.3146e-04\n",
      "Epoch 4/10\n",
      "2588/2588 [==============================] - 33s 13ms/step - loss: 6.3341e-04 - val_loss: 5.0085e-04\n",
      "Epoch 5/10\n",
      "2588/2588 [==============================] - 32s 13ms/step - loss: 3.1290e-04 - val_loss: 1.2799e-04\n",
      "Epoch 6/10\n",
      "2588/2588 [==============================] - 33s 13ms/step - loss: 3.8179e-05 - val_loss: 1.2385e-06\n",
      "Epoch 7/10\n",
      "2588/2588 [==============================] - 33s 13ms/step - loss: 1.4879e-07 - val_loss: 4.7271e-09\n",
      "Epoch 8/10\n",
      "2588/2588 [==============================] - 32s 12ms/step - loss: 6.9065e-09 - val_loss: 4.6972e-09\n",
      "Epoch 9/10\n",
      "2588/2588 [==============================] - 33s 13ms/step - loss: 6.9099e-09 - val_loss: 4.6855e-09\n",
      "Epoch 10/10\n",
      "2588/2588 [==============================] - 33s 13ms/step - loss: 6.9239e-09 - val_loss: 4.7610e-09\n"
     ]
    }
   ],
   "source": [
    "history = model.fit(train_X, train_Y, epochs=10, batch_size=32, validation_split=0.1)\n"
   ]
  },
  {
   "cell_type": "code",
   "execution_count": 51,
   "metadata": {},
   "outputs": [
    {
     "name": "stdout",
     "output_type": "stream",
     "text": [
      "320/320 [==============================] - 1s 3ms/step - loss: 4.4733e-09\n",
      "Test Loss: 4.4733172721578285e-09\n"
     ]
    }
   ],
   "source": [
    "loss = model.evaluate(test_X, test_Y)\n",
    "print(f\"Test Loss: {loss}\")\n"
   ]
  },
  {
   "cell_type": "code",
   "execution_count": 52,
   "metadata": {},
   "outputs": [
    {
     "name": "stdout",
     "output_type": "stream",
     "text": [
      "320/320 [==============================] - 1s 2ms/step\n"
     ]
    }
   ],
   "source": [
    "predictions = model.predict(test_X)\n"
   ]
  },
  {
   "cell_type": "markdown",
   "metadata": {},
   "source": [
    "cnn-gru"
   ]
  },
  {
   "cell_type": "code",
   "execution_count": 85,
   "metadata": {},
   "outputs": [],
   "source": [
    "train_X = train_X.reshape(train_X.shape[0], 6, 54)\n",
    "test_X = test_X.reshape(test_X.shape[0], 6, 54)\n"
   ]
  },
  {
   "cell_type": "code",
   "execution_count": 94,
   "metadata": {},
   "outputs": [
    {
     "name": "stdout",
     "output_type": "stream",
     "text": [
      "Epoch 1/5\n",
      "461/461 [==============================] - 9s 10ms/step - loss: 0.3041 - mse: 0.3041 - mae: 0.3510 - val_loss: 2.6689e-04 - val_mse: 2.6689e-04 - val_mae: 0.0101\n",
      "Epoch 2/5\n",
      "461/461 [==============================] - 4s 8ms/step - loss: 6.6788e-04 - mse: 6.6788e-04 - mae: 0.0152 - val_loss: 5.8195e-05 - val_mse: 5.8195e-05 - val_mae: 0.0043\n",
      "Epoch 3/5\n",
      "461/461 [==============================] - 4s 8ms/step - loss: 1.1219e-04 - mse: 1.1219e-04 - mae: 0.0044 - val_loss: 9.0863e-06 - val_mse: 9.0863e-06 - val_mae: 0.0018\n",
      "Epoch 4/5\n",
      "461/461 [==============================] - 3s 7ms/step - loss: 2.6437e-05 - mse: 2.6437e-05 - mae: 0.0017 - val_loss: 1.5335e-06 - val_mse: 1.5335e-06 - val_mae: 5.9392e-04\n",
      "Epoch 5/5\n",
      "461/461 [==============================] - 3s 7ms/step - loss: 5.9413e-06 - mse: 5.9413e-06 - mae: 6.2763e-04 - val_loss: 4.1431e-07 - val_mse: 4.1431e-07 - val_mae: 2.6008e-04\n"
     ]
    }
   ],
   "source": [
    "import tensorflow as tf\n",
    "from tensorflow.keras.layers import Conv1D, GRU, Dense, Dropout, Bidirectional, MaxPooling1D\n",
    "model = tf.keras.Sequential()\n",
    "\n",
    "# Convolutional Layers\n",
    "model.add(Conv1D(64, kernel_size=3, activation='relu', input_shape=(6, 54)))\n",
    "model.add(Conv1D(128, kernel_size=3, activation='relu'))\n",
    "model.add(MaxPooling1D(2))  \n",
    "\n",
    "# Bidirectional GRU Layer\n",
    "model.add(Bidirectional(GRU(100, return_sequences=False)))\n",
    "\n",
    "# Dropout for regularization\n",
    "model.add(Dropout(0.5))\n",
    "\n",
    "# Dense layer for predictions\n",
    "model.add(Dense(1, activation='linear'))  # Predicting for the next 10 minutes\n",
    "\n",
    "# Compile the model\n",
    "model.compile(optimizer='adam', loss='mse', metrics=['mse', 'mae'])\n",
    "\n",
    "\n",
    "# Fit the model\n",
    "history = model.fit(train_X, train_Y, validation_data=(test_X, test_Y), epochs=5, batch_size=200, verbose=1, shuffle=True)\n"
   ]
  },
  {
   "cell_type": "code",
   "execution_count": 95,
   "metadata": {},
   "outputs": [
    {
     "data": {
      "text/plain": [
       "<matplotlib.legend.Legend at 0x2a8c936dff0>"
      ]
     },
     "execution_count": 95,
     "metadata": {},
     "output_type": "execute_result"
    },
    {
     "data": {
      "image/png": "[encoded data removed]",
      "text/plain": [
       "<Figure size 640x480 with 1 Axes>"
      ]
     },
     "metadata": {},
     "output_type": "display_data"
    }
   ],
   "source": [
    "plt.plot(history.history['loss'], label='train loss')\n",
    "plt.plot(history.history['val_loss'], label='val loss')\n",
    "plt.xlabel(\"epoch\")\n",
    "plt.ylabel(\"loss\")\n",
    "plt.legend()"
   ]
  },
  {
   "cell_type": "code",
   "execution_count": 96,
   "metadata": {},
   "outputs": [
    {
     "name": "stdout",
     "output_type": "stream",
     "text": [
      "320/320 [==============================] - 1s 2ms/step - loss: 4.1431e-07 - mse: 4.1431e-07 - mae: 2.6008e-04\n"
     ]
    },
    {
     "data": {
      "text/plain": [
       "[4.14308658491791e-07, 4.14308658491791e-07, 0.0002600804145913571]"
      ]
     },
     "execution_count": 96,
     "metadata": {},
     "output_type": "execute_result"
    }
   ],
   "source": [
    "model.evaluate(test_X, test_Y)"
   ]
  },
  {
   "cell_type": "code",
   "execution_count": 97,
   "metadata": {},
   "outputs": [
    {
     "name": "stdout",
     "output_type": "stream",
     "text": [
      "320/320 [==============================] - 1s 2ms/step - loss: 4.1431e-07 - mse: 4.1431e-07 - mae: 2.6008e-04\n",
      "Loss: 4.14308658491791e-07\n",
      "Mean Squared Error: 4.14308658491791e-07\n",
      "Mean Absolute Error: 0.0002600804145913571\n",
      "320/320 [==============================] - 1s 1ms/step\n",
      "RMSPE: 4.511854917131372\n"
     ]
    }
   ],
   "source": [
    "# 모델 평가\n",
    "loss, mse, mae = model.evaluate(test_X, test_Y)\n",
    "print(\"Loss:\", loss)\n",
    "print(\"Mean Squared Error:\", mse)\n",
    "print(\"Mean Absolute Error:\", mae)\n",
    "\n",
    "# 예측값 얻기\n",
    "pred_Y = model.predict(test_X)\n",
    "\n",
    "# RMSPE 계산 함수\n",
    "def rmspe(y_true, y_pred):\n",
    "    return np.sqrt(np.mean(np.square((y_true - y_pred) / y_true)))\n",
    "\n",
    "# RMSPE 값 계산 및 출력\n",
    "error = rmspe(test_Y, pred_Y)\n",
    "print(\"RMSPE:\", error)\n"
   ]
  },
  {
   "cell_type": "code",
   "execution_count": null,
   "metadata": {},
   "outputs": [],
   "source": []
  }
 ],
 "metadata": {
  "kernelspec": {
   "display_name": "trade",
   "language": "python",
   "name": "python3"
  },
  "language_info": {
   "codemirror_mode": {
    "name": "ipython",
    "version": 3
   },
   "file_extension": ".py",
   "mimetype": "text/x-python",
   "name": "python",
   "nbconvert_exporter": "python",
   "pygments_lexer": "ipython3",
   "version": "3.10.12"
  },
  "orig_nbformat": 4
 },
 "nbformat": 4,
 "nbformat_minor": 2
}
