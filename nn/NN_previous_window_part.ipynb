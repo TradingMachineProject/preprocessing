{
 "cells": [
  {
   "cell_type": "markdown",
   "metadata": {},
   "source": [
    "### BUILD NEIGHBORS"
   ]
  },
  {
   "cell_type": "code",
   "execution_count": 21,
   "metadata": {},
   "outputs": [],
   "source": [
    "N_NEIGHBORS_MAX = 65 \n",
    "\n",
    "class Neighbors:\n",
    "    def __init__(self, \n",
    "                 name: str, \n",
    "                 pivot: pd.DataFrame, \n",
    "                 p: float, \n",
    "                 metric: str = 'minkowski', \n",
    "                 metric_params: object = None, \n",
    "                 exclude_self: bool = True,\n",
    "                 ):\n",
    "        self.name = name\n",
    "        self.exclude_self = exclude_self\n",
    "        self.p = p\n",
    "        self.metric = metric\n",
    "        self.neighbors = np.empty((0, 65), dtype=int)  # 빈 2D 배열로 초기화\n",
    "\n",
    "        nn = NearestNeighbors(\n",
    "            n_neighbors=N_NEIGHBORS_MAX, \n",
    "            p=p, \n",
    "            metric=metric, \n",
    "            metric_params=metric_params\n",
    "        )\n",
    "        \n",
    "        # 이웃을 찾을 이전 window 벙뮈\n",
    "        window_size = 10000\n",
    "        col_names = pivot.columns\n",
    "        index_name = pivot.index.name\n",
    "        \n",
    "        for t in range(len(pivot)) :\n",
    "            # window size 까지의 데이터는 random NN 설정\n",
    "            # 1 ~ window 범위의 데이터는 추후 버려야 함\n",
    "            if t < window_size :\n",
    "                update_array = np.random.permutation(np.arange(1, 66))\n",
    "                self.neighbors = np.append(self.neighbors, [update_array], axis = 0)\n",
    "                \n",
    "            else :\n",
    "                pvdf = pd.DataFrame(pivot.iloc[t-10000:t])\n",
    "                pvdf.columns = [list(col_names)]\n",
    "                pvdf = pvdf.rename_axis(index_name)\n",
    "                nn.fit(pvdf)\n",
    "                \n",
    "                update_array = nn.kneighbors(pivot.iloc[t].values.reshape(1, -1), return_distance=False)\n",
    "                update_array = update_array.reshape(-1)\n",
    "                self.neighbors = np.append(self.neighbors, [update_array], axis = 0)\n",
    "                # if t // 10000 == 0 :\n",
    "                #    print(t,self.neighbors)\n",
    "        self.columns = self.index = self.feature_values = self.feature_col = None\n",
    "\n",
    "    def rearrange_feature_values(self, df: pd.DataFrame, feature_col: str) -> None:\n",
    "        raise NotImplementedError()\n",
    "\n",
    "    def make_nn_feature(self, n=5, agg=np.mean) -> pd.DataFrame:\n",
    "        assert self.feature_values is not None, \"should call rearrange_feature_values beforehand\"\n",
    "\n",
    "        start = 1 if self.exclude_self else 0\n",
    "\n",
    "        pivot_aggs = pd.DataFrame(\n",
    "            agg(self.feature_values[start:n,:,0], axis=0), \n",
    "            columns=self.columns, \n",
    "            index=self.index\n",
    "        )\n",
    "\n",
    "        dst = pivot_aggs.reset_index() # unstack().\n",
    "        # print(\"dst.shape:\", dst.shape)\n",
    "        new_column_names = ['time_id', f'{self.feature_col}_nn{n}_{self.name}_{agg.__name__}'] # 3개를 예측했는데 2개만 들어왔다??\n",
    "        dst.columns = new_column_names \n",
    "        return dst\n",
    "    \n",
    "\n",
    "class TimeIdNeighbors(Neighbors):\n",
    "    def rearrange_feature_values(self, df: pd.DataFrame, feature_col: str) -> None:\n",
    "        # feature_pivot = df.pivot(index='time_id', values=feature_col)\n",
    "        # feature_pivot = feature_pivot.fillna(feature_pivot.mean())\n",
    "\n",
    "        feature_df = df[['time_id', feature_col]]\n",
    "        feature_df.set_index('time_id', inplace=True)\n",
    "        feature_df = feature_df.fillna(feature_df.mean())\n",
    "\n",
    "        feature_values = np.zeros((N_NEIGHBORS_MAX, feature_df.shape[0], 1))\n",
    "\n",
    "        for i in range(N_NEIGHBORS_MAX):\n",
    "            feature_values[i, :, 0] += feature_df.values[self.neighbors[:, i], 0]\n",
    "\n",
    "        self.columns = list(feature_df.columns)\n",
    "        self.index = list(feature_df.index)\n",
    "        self.feature_values = feature_values\n",
    "        self.feature_col = feature_col\n",
    "\n",
    "    def __repr__(self) -> str:\n",
    "        return f\"time-id NN (name={self.name}, metric={self.metric}, p={self.p})\"\n"
   ]
  },
  {
   "cell_type": "code",
   "execution_count": 23,
   "metadata": {},
   "outputs": [
    {
     "name": "stdout",
     "output_type": "stream",
     "text": [
      "time_id_neighbors.pkl 파일이 성공적으로 저장되었습니다.\n"
     ]
    }
   ],
   "source": [
    "import pickle\n",
    "\n",
    "# time_id_neighbors 변수를 저장할 파일 이름\n",
    "file_name = \"time_id_neighbors.pkl\"\n",
    "\n",
    "# time_id_neighbors 변수를 Pickle 파일로 저장\n",
    "with open(file_name, 'wb') as file:\n",
    "    pickle.dump(time_id_neighbors, file)\n",
    "\n",
    "print(f\"{file_name} 파일이 성공적으로 저장되었습니다.\")"
   ]
  }
 ],
 "metadata": {
  "kernelspec": {
   "display_name": "Python 3 (ipykernel)",
   "language": "python",
   "name": "python3"
  },
  "language_info": {
   "codemirror_mode": {
    "name": "ipython",
    "version": 3
   },
   "file_extension": ".py",
   "mimetype": "text/x-python",
   "name": "python",
   "nbconvert_exporter": "python",
   "pygments_lexer": "ipython3",
   "version": "3.8.12"
  }
 },
 "nbformat": 4,
 "nbformat_minor": 2
}
